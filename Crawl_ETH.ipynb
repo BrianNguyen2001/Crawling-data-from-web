{
  "cells": [
    {
      "cell_type": "code",
      "execution_count": 1,
      "metadata": {
        "colab": {
          "base_uri": "https://localhost:8080/"
        },
        "id": "bLG9OJ55FZxR",
        "outputId": "c0411a11-b5f1-4f5f-e41a-17816bc29270"
      },
      "outputs": [
        {
          "name": "stdout",
          "output_type": "stream",
          "text": [
            "Looking in indexes: https://pypi.org/simple, https://us-python.pkg.dev/colab-wheels/public/simple/\n",
            "Collecting GoogleNews\n",
            "  Downloading GoogleNews-1.6.2-py3-none-any.whl (7.9 kB)\n",
            "Requirement already satisfied: python-dateutil in /usr/local/lib/python3.7/dist-packages (from GoogleNews) (2.8.2)\n",
            "Collecting dateparser\n",
            "  Downloading dateparser-1.1.1-py2.py3-none-any.whl (288 kB)\n",
            "\u001b[K     |████████████████████████████████| 288 kB 16.7 MB/s \n",
            "\u001b[?25hRequirement already satisfied: beautifulsoup4 in /usr/local/lib/python3.7/dist-packages (from GoogleNews) (4.6.3)\n",
            "Requirement already satisfied: pytz in /usr/local/lib/python3.7/dist-packages (from dateparser->GoogleNews) (2022.1)\n",
            "Requirement already satisfied: tzlocal in /usr/local/lib/python3.7/dist-packages (from dateparser->GoogleNews) (1.5.1)\n",
            "Requirement already satisfied: regex!=2019.02.19,!=2021.8.27,<2022.3.15 in /usr/local/lib/python3.7/dist-packages (from dateparser->GoogleNews) (2019.12.20)\n",
            "Requirement already satisfied: six>=1.5 in /usr/local/lib/python3.7/dist-packages (from python-dateutil->GoogleNews) (1.15.0)\n",
            "Installing collected packages: dateparser, GoogleNews\n",
            "Successfully installed GoogleNews-1.6.2 dateparser-1.1.1\n"
          ]
        }
      ],
      "source": [
        "# pip install GoogleNews"
      ]
    },
    {
      "cell_type": "markdown",
      "metadata": {
        "id": "YN20gUDkXf-5"
      },
      "source": []
    },
    {
      "cell_type": "code",
      "execution_count": 10,
      "metadata": {
        "id": "WPRJfNCaFZxV"
      },
      "outputs": [],
      "source": [
        "from GoogleNews import GoogleNews\n",
        "import pandas as pd\n",
        "from datetime import datetime"
      ]
    },
    {
      "cell_type": "code",
      "execution_count": 9,
      "metadata": {
        "id": "OZ-z_7FlXXxK"
      },
      "outputs": [],
      "source": [
        "googlenews.clear()"
      ]
    },
    {
      "cell_type": "code",
      "execution_count": 11,
      "metadata": {
        "id": "sd6YH0MNWLLa"
      },
      "outputs": [],
      "source": [
        "# business_day = pd.date_range(start='01/01/2017', end='12/31/2017')\n",
        "# business_day = pd.date_range(start='01/01/2018', end='12/31/2018')\n",
        "# business_day = pd.date_range(start='01/01/2019', end='12/31/2019')\n",
        "# business_day = pd.date_range(start='01/01/2020', end='12/31/2020')\n",
        "# business_day = pd.date_range(start='01/01/2021', end='12/31/2021')\n",
        "business_day = pd.date_range(start='06/01/2022', end='06/30/2022')\n",
        "\n",
        "list_business_day = []\n",
        "for i in business_day:\n",
        "    list_business_day.append(i.strftime(\"%m/%d/%Y\"))\n"
      ]
    },
    {
      "cell_type": "code",
      "execution_count": 12,
      "metadata": {},
      "outputs": [
        {
          "data": {
            "text/plain": [
              "['06/01/2022',\n",
              " '06/02/2022',\n",
              " '06/03/2022',\n",
              " '06/04/2022',\n",
              " '06/05/2022',\n",
              " '06/06/2022',\n",
              " '06/07/2022',\n",
              " '06/08/2022',\n",
              " '06/09/2022',\n",
              " '06/10/2022',\n",
              " '06/11/2022',\n",
              " '06/12/2022',\n",
              " '06/13/2022',\n",
              " '06/14/2022',\n",
              " '06/15/2022',\n",
              " '06/16/2022',\n",
              " '06/17/2022',\n",
              " '06/18/2022',\n",
              " '06/19/2022',\n",
              " '06/20/2022',\n",
              " '06/21/2022',\n",
              " '06/22/2022',\n",
              " '06/23/2022',\n",
              " '06/24/2022',\n",
              " '06/25/2022',\n",
              " '06/26/2022',\n",
              " '06/27/2022',\n",
              " '06/28/2022',\n",
              " '06/29/2022',\n",
              " '06/30/2022']"
            ]
          },
          "execution_count": 12,
          "metadata": {},
          "output_type": "execute_result"
        }
      ],
      "source": [
        "list_business_day"
      ]
    },
    {
      "cell_type": "code",
      "execution_count": 13,
      "metadata": {
        "id": "mKdG_lBVWEtp"
      },
      "outputs": [],
      "source": [
        "# Initialize a loop to crawl data by days/months/years\n",
        "data = pd.DataFrame([])\n",
        "for i in range(0,len(list_business_day)-1,2):\n",
        "    googlenews = GoogleNews(lang='en',encode='utf-8',start=list_business_day[i],end=list_business_day[i+1])\n",
        "    googlenews.search('Ethereum')\n",
        "    crawl_results = googlenews.results()\n",
        "    df = pd.DataFrame(crawl_results)\n",
        "    data = pd.concat([data,df])"
      ]
    },
    {
      "cell_type": "code",
      "execution_count": 14,
      "metadata": {},
      "outputs": [
        {
          "data": {
            "text/html": [
              "<div>\n",
              "<style scoped>\n",
              "    .dataframe tbody tr th:only-of-type {\n",
              "        vertical-align: middle;\n",
              "    }\n",
              "\n",
              "    .dataframe tbody tr th {\n",
              "        vertical-align: top;\n",
              "    }\n",
              "\n",
              "    .dataframe thead th {\n",
              "        text-align: right;\n",
              "    }\n",
              "</style>\n",
              "<table border=\"1\" class=\"dataframe\">\n",
              "  <thead>\n",
              "    <tr style=\"text-align: right;\">\n",
              "      <th></th>\n",
              "    </tr>\n",
              "  </thead>\n",
              "  <tbody>\n",
              "  </tbody>\n",
              "</table>\n",
              "</div>"
            ],
            "text/plain": [
              "Empty DataFrame\n",
              "Columns: []\n",
              "Index: []"
            ]
          },
          "execution_count": 14,
          "metadata": {},
          "output_type": "execute_result"
        }
      ],
      "source": [
        "data"
      ]
    },
    {
      "cell_type": "code",
      "execution_count": 4,
      "metadata": {
        "colab": {
          "base_uri": "https://localhost:8080/"
        },
        "id": "MmAAXZS9eweL",
        "outputId": "fd52a003-839c-478c-d84e-9f20f293ca1b"
      },
      "outputs": [
        {
          "ename": "AttributeError",
          "evalue": "'DataFrame' object has no attribute 'datetime'",
          "output_type": "error",
          "traceback": [
            "\u001b[1;31m---------------------------------------------------------------------------\u001b[0m",
            "\u001b[1;31mAttributeError\u001b[0m                            Traceback (most recent call last)",
            "\u001b[1;32m<ipython-input-4-05765480c68e>\u001b[0m in \u001b[0;36m<module>\u001b[1;34m\u001b[0m\n\u001b[1;32m----> 1\u001b[1;33m \u001b[0mlen\u001b[0m\u001b[1;33m(\u001b[0m\u001b[0mdata\u001b[0m\u001b[1;33m[\u001b[0m\u001b[0mdata\u001b[0m\u001b[1;33m.\u001b[0m\u001b[0mdatetime\u001b[0m\u001b[1;33m.\u001b[0m\u001b[0misna\u001b[0m\u001b[1;33m(\u001b[0m\u001b[1;33m)\u001b[0m\u001b[1;33m]\u001b[0m\u001b[1;33m)\u001b[0m\u001b[1;33m\u001b[0m\u001b[1;33m\u001b[0m\u001b[0m\n\u001b[0m",
            "\u001b[1;32mc:\\Users\\ASUS\\AppData\\Local\\Programs\\Python\\Python39\\lib\\site-packages\\pandas\\core\\generic.py\u001b[0m in \u001b[0;36m__getattr__\u001b[1;34m(self, name)\u001b[0m\n\u001b[0;32m   5463\u001b[0m             \u001b[1;32mif\u001b[0m \u001b[0mself\u001b[0m\u001b[1;33m.\u001b[0m\u001b[0m_info_axis\u001b[0m\u001b[1;33m.\u001b[0m\u001b[0m_can_hold_identifiers_and_holds_name\u001b[0m\u001b[1;33m(\u001b[0m\u001b[0mname\u001b[0m\u001b[1;33m)\u001b[0m\u001b[1;33m:\u001b[0m\u001b[1;33m\u001b[0m\u001b[1;33m\u001b[0m\u001b[0m\n\u001b[0;32m   5464\u001b[0m                 \u001b[1;32mreturn\u001b[0m \u001b[0mself\u001b[0m\u001b[1;33m[\u001b[0m\u001b[0mname\u001b[0m\u001b[1;33m]\u001b[0m\u001b[1;33m\u001b[0m\u001b[1;33m\u001b[0m\u001b[0m\n\u001b[1;32m-> 5465\u001b[1;33m             \u001b[1;32mreturn\u001b[0m \u001b[0mobject\u001b[0m\u001b[1;33m.\u001b[0m\u001b[0m__getattribute__\u001b[0m\u001b[1;33m(\u001b[0m\u001b[0mself\u001b[0m\u001b[1;33m,\u001b[0m \u001b[0mname\u001b[0m\u001b[1;33m)\u001b[0m\u001b[1;33m\u001b[0m\u001b[1;33m\u001b[0m\u001b[0m\n\u001b[0m\u001b[0;32m   5466\u001b[0m \u001b[1;33m\u001b[0m\u001b[0m\n\u001b[0;32m   5467\u001b[0m     \u001b[1;32mdef\u001b[0m \u001b[0m__setattr__\u001b[0m\u001b[1;33m(\u001b[0m\u001b[0mself\u001b[0m\u001b[1;33m,\u001b[0m \u001b[0mname\u001b[0m\u001b[1;33m:\u001b[0m \u001b[0mstr\u001b[0m\u001b[1;33m,\u001b[0m \u001b[0mvalue\u001b[0m\u001b[1;33m)\u001b[0m \u001b[1;33m->\u001b[0m \u001b[1;32mNone\u001b[0m\u001b[1;33m:\u001b[0m\u001b[1;33m\u001b[0m\u001b[1;33m\u001b[0m\u001b[0m\n",
            "\u001b[1;31mAttributeError\u001b[0m: 'DataFrame' object has no attribute 'datetime'"
          ]
        }
      ],
      "source": [
        "len(data[data.datetime.isna()])"
      ]
    },
    {
      "cell_type": "code",
      "execution_count": 5,
      "metadata": {
        "colab": {
          "base_uri": "https://localhost:8080/",
          "height": 81
        },
        "id": "KnrCGDVuRNUu",
        "outputId": "d6fdcec7-a5d2-4f7e-c9d7-c67ef5d2ae47"
      },
      "outputs": [
        {
          "ename": "AttributeError",
          "evalue": "'DataFrame' object has no attribute 'datetime'",
          "output_type": "error",
          "traceback": [
            "\u001b[1;31m---------------------------------------------------------------------------\u001b[0m",
            "\u001b[1;31mAttributeError\u001b[0m                            Traceback (most recent call last)",
            "\u001b[1;32m<ipython-input-5-a90fd6847375>\u001b[0m in \u001b[0;36m<module>\u001b[1;34m\u001b[0m\n\u001b[0;32m      1\u001b[0m \u001b[1;31m# Processing missing value\u001b[0m\u001b[1;33m\u001b[0m\u001b[1;33m\u001b[0m\u001b[1;33m\u001b[0m\u001b[0m\n\u001b[1;32m----> 2\u001b[1;33m \u001b[0mmissing_df\u001b[0m \u001b[1;33m=\u001b[0m \u001b[0mdata\u001b[0m\u001b[1;33m[\u001b[0m\u001b[0mdata\u001b[0m\u001b[1;33m.\u001b[0m\u001b[0mdatetime\u001b[0m\u001b[1;33m.\u001b[0m\u001b[0misna\u001b[0m\u001b[1;33m(\u001b[0m\u001b[1;33m)\u001b[0m\u001b[1;33m]\u001b[0m\u001b[1;33m\u001b[0m\u001b[1;33m\u001b[0m\u001b[0m\n\u001b[0m\u001b[0;32m      3\u001b[0m \u001b[1;33m\u001b[0m\u001b[0m\n\u001b[0;32m      4\u001b[0m \u001b[0mmissing_df\u001b[0m\u001b[1;33m.\u001b[0m\u001b[0mindex\u001b[0m \u001b[1;33m=\u001b[0m \u001b[1;33m[\u001b[0m\u001b[0mi\u001b[0m \u001b[1;32mfor\u001b[0m \u001b[0mi\u001b[0m \u001b[1;32min\u001b[0m \u001b[0mrange\u001b[0m\u001b[1;33m(\u001b[0m\u001b[1;36m0\u001b[0m\u001b[1;33m,\u001b[0m\u001b[0mlen\u001b[0m\u001b[1;33m(\u001b[0m\u001b[0mmissing_df\u001b[0m\u001b[1;33m)\u001b[0m\u001b[1;33m)\u001b[0m\u001b[1;33m]\u001b[0m\u001b[1;33m\u001b[0m\u001b[1;33m\u001b[0m\u001b[0m\n\u001b[0;32m      5\u001b[0m \u001b[1;33m\u001b[0m\u001b[0m\n",
            "\u001b[1;32mc:\\Users\\ASUS\\AppData\\Local\\Programs\\Python\\Python39\\lib\\site-packages\\pandas\\core\\generic.py\u001b[0m in \u001b[0;36m__getattr__\u001b[1;34m(self, name)\u001b[0m\n\u001b[0;32m   5463\u001b[0m             \u001b[1;32mif\u001b[0m \u001b[0mself\u001b[0m\u001b[1;33m.\u001b[0m\u001b[0m_info_axis\u001b[0m\u001b[1;33m.\u001b[0m\u001b[0m_can_hold_identifiers_and_holds_name\u001b[0m\u001b[1;33m(\u001b[0m\u001b[0mname\u001b[0m\u001b[1;33m)\u001b[0m\u001b[1;33m:\u001b[0m\u001b[1;33m\u001b[0m\u001b[1;33m\u001b[0m\u001b[0m\n\u001b[0;32m   5464\u001b[0m                 \u001b[1;32mreturn\u001b[0m \u001b[0mself\u001b[0m\u001b[1;33m[\u001b[0m\u001b[0mname\u001b[0m\u001b[1;33m]\u001b[0m\u001b[1;33m\u001b[0m\u001b[1;33m\u001b[0m\u001b[0m\n\u001b[1;32m-> 5465\u001b[1;33m             \u001b[1;32mreturn\u001b[0m \u001b[0mobject\u001b[0m\u001b[1;33m.\u001b[0m\u001b[0m__getattribute__\u001b[0m\u001b[1;33m(\u001b[0m\u001b[0mself\u001b[0m\u001b[1;33m,\u001b[0m \u001b[0mname\u001b[0m\u001b[1;33m)\u001b[0m\u001b[1;33m\u001b[0m\u001b[1;33m\u001b[0m\u001b[0m\n\u001b[0m\u001b[0;32m   5466\u001b[0m \u001b[1;33m\u001b[0m\u001b[0m\n\u001b[0;32m   5467\u001b[0m     \u001b[1;32mdef\u001b[0m \u001b[0m__setattr__\u001b[0m\u001b[1;33m(\u001b[0m\u001b[0mself\u001b[0m\u001b[1;33m,\u001b[0m \u001b[0mname\u001b[0m\u001b[1;33m:\u001b[0m \u001b[0mstr\u001b[0m\u001b[1;33m,\u001b[0m \u001b[0mvalue\u001b[0m\u001b[1;33m)\u001b[0m \u001b[1;33m->\u001b[0m \u001b[1;32mNone\u001b[0m\u001b[1;33m:\u001b[0m\u001b[1;33m\u001b[0m\u001b[1;33m\u001b[0m\u001b[0m\n",
            "\u001b[1;31mAttributeError\u001b[0m: 'DataFrame' object has no attribute 'datetime'"
          ]
        }
      ],
      "source": [
        "# Processing missing value\n",
        "missing_df = data[data.datetime.isna()]\n",
        "\n",
        "missing_df.index = [i for i in range(0,len(missing_df))]\n",
        "\n",
        "tran_month = {'an':'Jan',\n",
        "              'eb':'Feb',\n",
        "              'ar':'Mar',\n",
        "              'pr':'Apr',\n",
        "              'ay':'May',\n",
        "              'un':'Jun',\n",
        "              'ul':'Jul',\n",
        "              'ug':'Aug',\n",
        "              'ep':'Sep',\n",
        "              'ct':'Oct',\n",
        "              'ov':'Nov',\n",
        "              'ec':'Dec'}\n",
        "\n",
        "list_date_time = []\n",
        "list_index = []\n",
        "for i in range(0,len(missing_df)):\n",
        "  for key in tran_month:\n",
        "    if key in missing_df.date[i]:\n",
        "      date_time = missing_df.date[i].replace(key,tran_month[key])\n",
        "      list_date_time.append(date_time)\n",
        "      list_index.append(i)\n",
        "\n",
        "missing_df = missing_df.iloc[list_index]\n",
        "missing_df.datetime = list_date_time\n",
        "\n",
        "\n",
        "convert_miss_index = []\n",
        "for i in list_date_time:\n",
        "    convert_miss_index.append(datetime.strptime(i,\"%b %d, %Y\"))\n",
        "    \n",
        "missing_df.index = convert_miss_index\n",
        "\n",
        "missing_df = missing_df.drop(['desc','media','date','datetime','img'],axis= 1)\n",
        "\n",
        "missing_df.index = missing_df.index.set_names('Time')\n",
        "\n",
        "missing_df"
      ]
    },
    {
      "cell_type": "code",
      "execution_count": 20,
      "metadata": {
        "id": "YsE3nalwFZxY"
      },
      "outputs": [],
      "source": [
        "# Xử lý dữ liệu\n",
        "data = data[data.datetime.notna()]\n",
        "\n",
        "time_index = []\n",
        "for i in range(len(data.datetime)):\n",
        "    time_index.append(data.datetime.iloc[i].strftime(\"%m/%d/%Y\"))\n",
        "\n",
        "convert_index = []\n",
        "for i in time_index:\n",
        "    convert_index.append(datetime.strptime(i,\"%m/%d/%Y\"))\n",
        "    \n",
        "data.index = convert_index\n",
        "\n",
        "data = data.drop(['desc','media','date','datetime','img'],axis= 1)\n",
        "\n",
        "data.index = data.index.set_names('Time')\n",
        "\n",
        "data"
      ]
    },
    {
      "cell_type": "code",
      "execution_count": 19,
      "metadata": {
        "id": "Vcf9ez_IxIOh"
      },
      "outputs": [],
      "source": [
        "# Result of crawling data\n",
        "df_concate = pd.concat([data,missing_df])\n",
        "df_concate = df_concate.sort_index()\n",
        "df_concate"
      ]
    },
    {
      "cell_type": "code",
      "execution_count": 18,
      "metadata": {
        "id": "yxBbrWIqY6yY"
      },
      "outputs": [],
      "source": [
        "#### Export data\n",
        "\n",
        "# df_concate.to_excel('year_2017_full.xlsx')\n",
        "# df_concate.to_excel('year_2018_full.xlsx')\n",
        "# df_concate.to_excel('year_2019_full.xlsx')\n",
        "# df_concate.to_excel('year_20120_full.xlsx')\n",
        "# df_concate.to_excel('year_2021_full.xlsx')\n",
        "# df_concate.to_excel('year_2022_to_May_full.xlsx')"
      ]
    }
  ],
  "metadata": {
    "colab": {
      "collapsed_sections": [],
      "name": "Crawl_ETH.ipynb",
      "provenance": []
    },
    "interpreter": {
      "hash": "14958d3aee5f1cad06795f787e54b96185c25fb40dfec723a5be941f3a531b8c"
    },
    "kernelspec": {
      "display_name": "Python 3.9.1 64-bit",
      "language": "python",
      "name": "python3"
    },
    "language_info": {
      "codemirror_mode": {
        "name": "ipython",
        "version": 3
      },
      "file_extension": ".py",
      "mimetype": "text/x-python",
      "name": "python",
      "nbconvert_exporter": "python",
      "pygments_lexer": "ipython3",
      "version": "3.9.1"
    }
  },
  "nbformat": 4,
  "nbformat_minor": 0
}
